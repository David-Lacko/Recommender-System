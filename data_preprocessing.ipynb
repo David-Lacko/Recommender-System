{
 "cells": [
  {
   "cell_type": "code",
   "execution_count": 2,
   "metadata": {
    "collapsed": true
   },
   "outputs": [],
   "source": [
    "from IPython.core.interactiveshell import InteractiveShell\n",
    "InteractiveShell.ast_node_interactivity = \"all\"\n",
    "\n",
    "import pandas as pd\n",
    "import numpy as np\n",
    "\n",
    "import matplotlib.pyplot as plt"
   ]
  },
  {
   "cell_type": "code",
   "execution_count": 3,
   "outputs": [],
   "source": [
    "plt.style.use(\"ggplot\")\n"
   ],
   "metadata": {
    "collapsed": false,
    "pycharm": {
     "name": "#%%\n"
    }
   }
  },
  {
   "cell_type": "code",
   "execution_count": 4,
   "outputs": [],
   "source": [
    "df_steam = pd.DataFrame(pd.read_csv(\"Data/steam-200k.csv\", names=['user-id','game-title','behavior','hours-played',\"0\"]))"
   ],
   "metadata": {
    "collapsed": false,
    "pycharm": {
     "name": "#%%\n"
    }
   }
  },
  {
   "cell_type": "code",
   "execution_count": 5,
   "outputs": [],
   "source": [
    "del df_steam[\"0\"]"
   ],
   "metadata": {
    "collapsed": false,
    "pycharm": {
     "name": "#%%\n"
    }
   }
  },
  {
   "cell_type": "code",
   "execution_count": 6,
   "outputs": [
    {
     "data": {
      "text/plain": "     user-id                  game-title  behavior  hours-played\n0  151603712  The Elder Scrolls V Skyrim  purchase           1.0\n1  151603712  The Elder Scrolls V Skyrim      play         273.0\n2  151603712                   Fallout 4  purchase           1.0\n3  151603712                   Fallout 4      play          87.0\n4  151603712                       Spore  purchase           1.0\n5  151603712                       Spore      play          14.9\n6  151603712           Fallout New Vegas  purchase           1.0\n7  151603712           Fallout New Vegas      play          12.1\n8  151603712               Left 4 Dead 2  purchase           1.0\n9  151603712               Left 4 Dead 2      play           8.9",
      "text/html": "<div>\n<style scoped>\n    .dataframe tbody tr th:only-of-type {\n        vertical-align: middle;\n    }\n\n    .dataframe tbody tr th {\n        vertical-align: top;\n    }\n\n    .dataframe thead th {\n        text-align: right;\n    }\n</style>\n<table border=\"1\" class=\"dataframe\">\n  <thead>\n    <tr style=\"text-align: right;\">\n      <th></th>\n      <th>user-id</th>\n      <th>game-title</th>\n      <th>behavior</th>\n      <th>hours-played</th>\n    </tr>\n  </thead>\n  <tbody>\n    <tr>\n      <th>0</th>\n      <td>151603712</td>\n      <td>The Elder Scrolls V Skyrim</td>\n      <td>purchase</td>\n      <td>1.0</td>\n    </tr>\n    <tr>\n      <th>1</th>\n      <td>151603712</td>\n      <td>The Elder Scrolls V Skyrim</td>\n      <td>play</td>\n      <td>273.0</td>\n    </tr>\n    <tr>\n      <th>2</th>\n      <td>151603712</td>\n      <td>Fallout 4</td>\n      <td>purchase</td>\n      <td>1.0</td>\n    </tr>\n    <tr>\n      <th>3</th>\n      <td>151603712</td>\n      <td>Fallout 4</td>\n      <td>play</td>\n      <td>87.0</td>\n    </tr>\n    <tr>\n      <th>4</th>\n      <td>151603712</td>\n      <td>Spore</td>\n      <td>purchase</td>\n      <td>1.0</td>\n    </tr>\n    <tr>\n      <th>5</th>\n      <td>151603712</td>\n      <td>Spore</td>\n      <td>play</td>\n      <td>14.9</td>\n    </tr>\n    <tr>\n      <th>6</th>\n      <td>151603712</td>\n      <td>Fallout New Vegas</td>\n      <td>purchase</td>\n      <td>1.0</td>\n    </tr>\n    <tr>\n      <th>7</th>\n      <td>151603712</td>\n      <td>Fallout New Vegas</td>\n      <td>play</td>\n      <td>12.1</td>\n    </tr>\n    <tr>\n      <th>8</th>\n      <td>151603712</td>\n      <td>Left 4 Dead 2</td>\n      <td>purchase</td>\n      <td>1.0</td>\n    </tr>\n    <tr>\n      <th>9</th>\n      <td>151603712</td>\n      <td>Left 4 Dead 2</td>\n      <td>play</td>\n      <td>8.9</td>\n    </tr>\n  </tbody>\n</table>\n</div>"
     },
     "execution_count": 6,
     "metadata": {},
     "output_type": "execute_result"
    }
   ],
   "source": [
    "df_steam.head(10)"
   ],
   "metadata": {
    "collapsed": false,
    "pycharm": {
     "name": "#%%\n"
    }
   }
  },
  {
   "cell_type": "code",
   "execution_count": 7,
   "outputs": [
    {
     "data": {
      "text/plain": "False"
     },
     "execution_count": 7,
     "metadata": {},
     "output_type": "execute_result"
    },
    {
     "name": "stdout",
     "output_type": "stream",
     "text": [
      "<class 'pandas.core.frame.DataFrame'>\n",
      "RangeIndex: 200000 entries, 0 to 199999\n",
      "Data columns (total 4 columns):\n",
      " #   Column        Non-Null Count   Dtype  \n",
      "---  ------        --------------   -----  \n",
      " 0   user-id       200000 non-null  int64  \n",
      " 1   game-title    200000 non-null  object \n",
      " 2   behavior      200000 non-null  object \n",
      " 3   hours-played  200000 non-null  float64\n",
      "dtypes: float64(1), int64(1), object(2)\n",
      "memory usage: 6.1+ MB\n"
     ]
    },
    {
     "data": {
      "text/plain": "            user-id   hours-played\ncount  2.000000e+05  200000.000000\nmean   1.036559e+08      17.874384\nstd    7.208074e+07     138.056952\nmin    5.250000e+03       0.100000\n25%    4.738420e+07       1.000000\n50%    8.691201e+07       1.000000\n75%    1.542309e+08       1.300000\nmax    3.099031e+08   11754.000000",
      "text/html": "<div>\n<style scoped>\n    .dataframe tbody tr th:only-of-type {\n        vertical-align: middle;\n    }\n\n    .dataframe tbody tr th {\n        vertical-align: top;\n    }\n\n    .dataframe thead th {\n        text-align: right;\n    }\n</style>\n<table border=\"1\" class=\"dataframe\">\n  <thead>\n    <tr style=\"text-align: right;\">\n      <th></th>\n      <th>user-id</th>\n      <th>hours-played</th>\n    </tr>\n  </thead>\n  <tbody>\n    <tr>\n      <th>count</th>\n      <td>2.000000e+05</td>\n      <td>200000.000000</td>\n    </tr>\n    <tr>\n      <th>mean</th>\n      <td>1.036559e+08</td>\n      <td>17.874384</td>\n    </tr>\n    <tr>\n      <th>std</th>\n      <td>7.208074e+07</td>\n      <td>138.056952</td>\n    </tr>\n    <tr>\n      <th>min</th>\n      <td>5.250000e+03</td>\n      <td>0.100000</td>\n    </tr>\n    <tr>\n      <th>25%</th>\n      <td>4.738420e+07</td>\n      <td>1.000000</td>\n    </tr>\n    <tr>\n      <th>50%</th>\n      <td>8.691201e+07</td>\n      <td>1.000000</td>\n    </tr>\n    <tr>\n      <th>75%</th>\n      <td>1.542309e+08</td>\n      <td>1.300000</td>\n    </tr>\n    <tr>\n      <th>max</th>\n      <td>3.099031e+08</td>\n      <td>11754.000000</td>\n    </tr>\n  </tbody>\n</table>\n</div>"
     },
     "execution_count": 7,
     "metadata": {},
     "output_type": "execute_result"
    }
   ],
   "source": [
    "df_steam.isnull().values.any()\n",
    "df_steam.info()\n",
    "df_steam.describe()\n"
   ],
   "metadata": {
    "collapsed": false,
    "pycharm": {
     "name": "#%%\n"
    }
   }
  },
  {
   "cell_type": "code",
   "execution_count": 8,
   "outputs": [
    {
     "data": {
      "text/plain": "                              user-id  hours-played\ngame-title                                         \nEastside Hockey Manager  2.138543e+08    648.000000\nFIFA Manager 09          4.630176e+07    206.000000\nPerpetuum                6.723111e+07    200.987500\nFootball Manager 2012    7.458787e+07    194.501887\nFootball Manager 2014    1.032652e+08    194.017722",
      "text/html": "<div>\n<style scoped>\n    .dataframe tbody tr th:only-of-type {\n        vertical-align: middle;\n    }\n\n    .dataframe tbody tr th {\n        vertical-align: top;\n    }\n\n    .dataframe thead th {\n        text-align: right;\n    }\n</style>\n<table border=\"1\" class=\"dataframe\">\n  <thead>\n    <tr style=\"text-align: right;\">\n      <th></th>\n      <th>user-id</th>\n      <th>hours-played</th>\n    </tr>\n    <tr>\n      <th>game-title</th>\n      <th></th>\n      <th></th>\n    </tr>\n  </thead>\n  <tbody>\n    <tr>\n      <th>Eastside Hockey Manager</th>\n      <td>2.138543e+08</td>\n      <td>648.000000</td>\n    </tr>\n    <tr>\n      <th>FIFA Manager 09</th>\n      <td>4.630176e+07</td>\n      <td>206.000000</td>\n    </tr>\n    <tr>\n      <th>Perpetuum</th>\n      <td>6.723111e+07</td>\n      <td>200.987500</td>\n    </tr>\n    <tr>\n      <th>Football Manager 2012</th>\n      <td>7.458787e+07</td>\n      <td>194.501887</td>\n    </tr>\n    <tr>\n      <th>Football Manager 2014</th>\n      <td>1.032652e+08</td>\n      <td>194.017722</td>\n    </tr>\n  </tbody>\n</table>\n</div>"
     },
     "execution_count": 8,
     "metadata": {},
     "output_type": "execute_result"
    }
   ],
   "source": [
    "df_steam.groupby(['game-title']).mean().sort_values(by=\"hours-played\",ascending=False).head()"
   ],
   "metadata": {
    "collapsed": false,
    "pycharm": {
     "name": "#%%\n"
    }
   }
  },
  {
   "cell_type": "code",
   "execution_count": 9,
   "outputs": [
    {
     "data": {
      "text/plain": "(array(['purchase', 'play'], dtype=object), 5155)"
     },
     "execution_count": 9,
     "metadata": {},
     "output_type": "execute_result"
    }
   ],
   "source": [
    "df_steam[\"behavior\"].unique(), len(df_steam[\"game-title\"].unique())"
   ],
   "metadata": {
    "collapsed": false,
    "pycharm": {
     "name": "#%%\n"
    }
   }
  },
  {
   "cell_type": "code",
   "execution_count": 10,
   "outputs": [
    {
     "data": {
      "text/plain": "array(['The Elder Scrolls V Skyrim', 'Fallout 4', 'Spore',\n       'Fallout New Vegas', 'Left 4 Dead 2', 'HuniePop', 'Path of Exile',\n       'Poly Bridge', 'Left 4 Dead', 'Team Fortress 2', 'Tomb Raider',\n       'The Banner Saga', 'Dead Island Epidemic', 'BioShock Infinite',\n       'Dragon Age Origins - Ultimate Edition'], dtype=object)"
     },
     "execution_count": 10,
     "metadata": {},
     "output_type": "execute_result"
    },
    {
     "data": {
      "text/plain": "(array([ 0,  1,  2,  3,  4,  5,  6,  7,  8,  9, 10, 11, 12, 13, 14],\n       dtype=int64),)"
     },
     "execution_count": 10,
     "metadata": {},
     "output_type": "execute_result"
    }
   ],
   "source": [
    "df_steam[\"game-title\"].unique()[:15]\n",
    "np.where(df_steam[\"game-title\"].value_counts() > 1000)"
   ],
   "metadata": {
    "collapsed": false,
    "pycharm": {
     "name": "#%%\n"
    }
   }
  },
  {
   "cell_type": "code",
   "execution_count": 11,
   "outputs": [
    {
     "data": {
      "text/plain": "Dota 2                             9682\nTeam Fortress 2                    4646\nCounter-Strike Global Offensive    2789\nUnturned                           2632\nLeft 4 Dead 2                      1752\nCounter-Strike Source              1693\nCounter-Strike                     1424\nGarry's Mod                        1397\nThe Elder Scrolls V Skyrim         1394\nWarframe                           1271\nHalf-Life 2 Lost Coast             1158\nSid Meier's Civilization V         1150\nRobocraft                          1096\nHalf-Life 2 Deathmatch             1021\nPortal                             1005\nName: game-title, dtype: int64"
     },
     "execution_count": 11,
     "metadata": {},
     "output_type": "execute_result"
    }
   ],
   "source": [
    "df_steam[\"game-title\"].value_counts()[:15]"
   ],
   "metadata": {
    "collapsed": false,
    "pycharm": {
     "name": "#%%\n"
    }
   }
  },
  {
   "cell_type": "markdown",
   "source": [
    "## Analysis"
   ],
   "metadata": {
    "collapsed": false,
    "pycharm": {
     "name": "#%% md\n"
    }
   }
  },
  {
   "cell_type": "code",
   "execution_count": 11,
   "outputs": [
    {
     "data": {
      "text/plain": "Text(0.5, 1.0, 'Barplot of occurences more than 1000')"
     },
     "execution_count": 11,
     "metadata": {},
     "output_type": "execute_result"
    },
    {
     "data": {
      "text/plain": "<BarContainer object of 15 artists>"
     },
     "execution_count": 11,
     "metadata": {},
     "output_type": "execute_result"
    },
    {
     "data": {
      "text/plain": "<Figure size 432x288 with 1 Axes>",
      "image/png": "[encoded data removed]"
     },
     "metadata": {},
     "output_type": "display_data"
    }
   ],
   "source": [
    "plt.title(\"Barplot of occurences more than 1000\")\n",
    "plt.barh(np.array(df_steam[\"game-title\"].value_counts()[:15][::-1].axes).ravel(),\n",
    "        width=df_steam[\"game-title\"].value_counts()[:15][::-1], color=\"yellow\")"
   ],
   "metadata": {
    "collapsed": false,
    "pycharm": {
     "name": "#%%\n"
    }
   }
  },
  {
   "cell_type": "code",
   "execution_count": 12,
   "outputs": [
    {
     "data": {
      "text/plain": "<Figure size 1080x504 with 0 Axes>"
     },
     "execution_count": 12,
     "metadata": {},
     "output_type": "execute_result"
    },
    {
     "data": {
      "text/plain": "<AxesSubplot:>"
     },
     "execution_count": 12,
     "metadata": {},
     "output_type": "execute_result"
    },
    {
     "data": {
      "text/plain": "Text(0.5, 1.0, 'Distribution of hours')"
     },
     "execution_count": 12,
     "metadata": {},
     "output_type": "execute_result"
    },
    {
     "data": {
      "text/plain": "(array([1.97075e+05, 1.35100e+03, 5.79000e+02, 3.16000e+02, 2.08000e+02,\n        1.23000e+02, 8.50000e+01, 5.90000e+01, 4.40000e+01, 2.90000e+01,\n        2.50000e+01, 2.10000e+01, 1.60000e+01, 7.00000e+00, 9.00000e+00,\n        1.10000e+01, 4.00000e+00, 6.00000e+00, 4.00000e+00, 5.00000e+00,\n        6.00000e+00, 2.00000e+00, 1.00000e+00, 2.00000e+00, 2.00000e+00,\n        4.00000e+00, 0.00000e+00, 0.00000e+00, 1.00000e+00, 1.00000e+00,\n        0.00000e+00, 0.00000e+00, 0.00000e+00, 1.00000e+00, 0.00000e+00,\n        0.00000e+00, 0.00000e+00, 0.00000e+00, 0.00000e+00, 0.00000e+00,\n        0.00000e+00, 1.00000e+00, 0.00000e+00, 0.00000e+00, 1.00000e+00,\n        0.00000e+00, 0.00000e+00, 0.00000e+00, 0.00000e+00, 1.00000e+00]),\n array([1.0000000e-01, 2.3517800e+02, 4.7025600e+02, 7.0533400e+02,\n        9.4041200e+02, 1.1754900e+03, 1.4105680e+03, 1.6456460e+03,\n        1.8807240e+03, 2.1158020e+03, 2.3508800e+03, 2.5859580e+03,\n        2.8210360e+03, 3.0561140e+03, 3.2911920e+03, 3.5262700e+03,\n        3.7613480e+03, 3.9964260e+03, 4.2315040e+03, 4.4665820e+03,\n        4.7016600e+03, 4.9367380e+03, 5.1718160e+03, 5.4068940e+03,\n        5.6419720e+03, 5.8770500e+03, 6.1121280e+03, 6.3472060e+03,\n        6.5822840e+03, 6.8173620e+03, 7.0524400e+03, 7.2875180e+03,\n        7.5225960e+03, 7.7576740e+03, 7.9927520e+03, 8.2278300e+03,\n        8.4629080e+03, 8.6979860e+03, 8.9330640e+03, 9.1681420e+03,\n        9.4032200e+03, 9.6382980e+03, 9.8733760e+03, 1.0108454e+04,\n        1.0343532e+04, 1.0578610e+04, 1.0813688e+04, 1.1048766e+04,\n        1.1283844e+04, 1.1518922e+04, 1.1754000e+04]),\n <BarContainer object of 50 artists>)"
     },
     "execution_count": 12,
     "metadata": {},
     "output_type": "execute_result"
    },
    {
     "data": {
      "text/plain": "<AxesSubplot:>"
     },
     "execution_count": 12,
     "metadata": {},
     "output_type": "execute_result"
    },
    {
     "data": {
      "text/plain": "Text(0.5, 1.0, 'Distribution of users')"
     },
     "execution_count": 12,
     "metadata": {},
     "output_type": "execute_result"
    },
    {
     "data": {
      "text/plain": "(array([2959.,  974.,  921., 2250., 5602., 2422., 1829., 1880., 2253.,\n        1975., 2611., 2344., 3114., 4426., 1834., 3659., 1857., 1985.,\n        3464., 3444., 4696., 2079., 3029., 2548., 4520., 2969., 5002.,\n        3193., 1850., 2310., 2303., 2692., 1931., 4056., 2014., 3484.,\n        2749., 1336., 2836., 1884., 1768., 2019., 2379., 1898., 2255.,\n        1602., 2002., 1527., 2444., 1692., 1797., 1762., 2345., 1449.,\n        1776., 1743., 1171., 1406., 1104., 1185.,  813., 1397., 1405.,\n        2265., 2479., 1473., 1980., 1600., 1769., 1350., 1449., 1171.,\n        1134.,  876., 1153., 1416., 1108., 1169., 1467., 1280., 1081.,\n        1269., 1422.,  965., 1111., 1118.,  879.,  958.,  754.,  930.,\n         621.,  604.,  475.,  377.,  380.,  543.,  542.,  565.,  570.,\n         575.,  931.,  713.,  793.,  521.,  543.,  472.,  456.,  361.,\n         258.,  291.,  309.,  191.,  244.,  260.,  391.,  221.,  379.,\n         295.,  430.,  196.,  261.,  411.,  438.,  395.,  374.,  391.,\n         150.,  224.]),\n array([5.25000000e+03, 2.42632731e+06, 4.84740462e+06, 7.26848194e+06,\n        9.68955925e+06, 1.21106366e+07, 1.45317139e+07, 1.69527912e+07,\n        1.93738685e+07, 2.17949458e+07, 2.42160231e+07, 2.66371004e+07,\n        2.90581778e+07, 3.14792551e+07, 3.39003324e+07, 3.63214097e+07,\n        3.87424870e+07, 4.11635643e+07, 4.35846416e+07, 4.60057189e+07,\n        4.84267962e+07, 5.08478736e+07, 5.32689509e+07, 5.56900282e+07,\n        5.81111055e+07, 6.05321828e+07, 6.29532601e+07, 6.53743374e+07,\n        6.77954148e+07, 7.02164921e+07, 7.26375694e+07, 7.50586467e+07,\n        7.74797240e+07, 7.99008013e+07, 8.23218786e+07, 8.47429559e+07,\n        8.71640332e+07, 8.95851106e+07, 9.20061879e+07, 9.44272652e+07,\n        9.68483425e+07, 9.92694198e+07, 1.01690497e+08, 1.04111574e+08,\n        1.06532652e+08, 1.08953729e+08, 1.11374806e+08, 1.13795884e+08,\n        1.16216961e+08, 1.18638038e+08, 1.21059116e+08, 1.23480193e+08,\n        1.25901270e+08, 1.28322348e+08, 1.30743425e+08, 1.33164502e+08,\n        1.35585580e+08, 1.38006657e+08, 1.40427734e+08, 1.42848811e+08,\n        1.45269889e+08, 1.47690966e+08, 1.50112043e+08, 1.52533121e+08,\n        1.54954198e+08, 1.57375275e+08, 1.59796353e+08, 1.62217430e+08,\n        1.64638507e+08, 1.67059585e+08, 1.69480662e+08, 1.71901739e+08,\n        1.74322816e+08, 1.76743894e+08, 1.79164971e+08, 1.81586048e+08,\n        1.84007126e+08, 1.86428203e+08, 1.88849280e+08, 1.91270358e+08,\n        1.93691435e+08, 1.96112512e+08, 1.98533590e+08, 2.00954667e+08,\n        2.03375744e+08, 2.05796822e+08, 2.08217899e+08, 2.10638976e+08,\n        2.13060054e+08, 2.15481131e+08, 2.17902208e+08, 2.20323285e+08,\n        2.22744363e+08, 2.25165440e+08, 2.27586517e+08, 2.30007595e+08,\n        2.32428672e+08, 2.34849749e+08, 2.37270827e+08, 2.39691904e+08,\n        2.42112981e+08, 2.44534059e+08, 2.46955136e+08, 2.49376213e+08,\n        2.51797290e+08, 2.54218368e+08, 2.56639445e+08, 2.59060522e+08,\n        2.61481600e+08, 2.63902677e+08, 2.66323754e+08, 2.68744832e+08,\n        2.71165909e+08, 2.73586986e+08, 2.76008064e+08, 2.78429141e+08,\n        2.80850218e+08, 2.83271296e+08, 2.85692373e+08, 2.88113450e+08,\n        2.90534528e+08, 2.92955605e+08, 2.95376682e+08, 2.97797759e+08,\n        3.00218837e+08, 3.02639914e+08, 3.05060991e+08, 3.07482069e+08,\n        3.09903146e+08]),\n <BarContainer object of 128 artists>)"
     },
     "execution_count": 12,
     "metadata": {},
     "output_type": "execute_result"
    },
    {
     "data": {
      "text/plain": "<Figure size 1080x504 with 2 Axes>",
      "image/png": "[encoded data removed]"
     },
     "metadata": {},
     "output_type": "display_data"
    }
   ],
   "source": [
    "plt.figure(figsize=(15, 7))\n",
    "\n",
    "plt.subplot(121)\n",
    "plt.title(\"Distribution of hours\")\n",
    "plt.hist(x=df_steam[\"hours-played\"], color=\"green\", bins=50)\n",
    "\n",
    "plt.subplot(122)\n",
    "plt.title(\"Distribution of users\")\n",
    "plt.hist(x=df_steam[\"user-id\"], color=\"purple\", bins=128)\n",
    "\n",
    "plt.tight_layout()"
   ],
   "metadata": {
    "collapsed": false,
    "pycharm": {
     "name": "#%%\n"
    }
   }
  },
  {
   "cell_type": "code",
   "execution_count": 13,
   "outputs": [
    {
     "data": {
      "text/plain": "<Figure size 720x576 with 1 Axes>",
      "image/png": "[encoded data removed]"
     },
     "metadata": {},
     "output_type": "display_data"
    }
   ],
   "source": [
    "out = pd.cut(df_steam['hours-played'], bins = [0, 25, 50, 100, 250, 500, 750, 1000, 1250])\n",
    "ax = out.value_counts(sort=False).plot.bar(rot=0, color=\"violet\", figsize = (10, 8))"
   ],
   "metadata": {
    "collapsed": false,
    "pycharm": {
     "name": "#%%\n"
    }
   }
  },
  {
   "cell_type": "markdown",
   "source": [
    "## Preprocess data"
   ],
   "metadata": {
    "collapsed": false,
    "pycharm": {
     "name": "#%% md\n"
    }
   }
  },
  {
   "cell_type": "code",
   "execution_count": 12,
   "outputs": [],
   "source": [
    "users = []\n",
    "user_id, game, beh = df_steam[\"user-id\"], df_steam[\"game-title\"], df_steam[\"behavior\"]\n",
    "for i in range(len(df_steam[\"user-id\"]) - 1):\n",
    "        if (user_id[i] == user_id[i+1]) and (game[i] == game[i+1]) and (beh[i] == \"purchase\" and beh[i+1] == \"play\"):\n",
    "            users.append(i)"
   ],
   "metadata": {
    "collapsed": false,
    "pycharm": {
     "name": "#%%\n"
    }
   }
  },
  {
   "cell_type": "code",
   "execution_count": 13,
   "outputs": [],
   "source": [
    "df_steam_dropped = df_steam.drop(users)\n",
    "del df_steam_dropped[\"behavior\"]"
   ],
   "metadata": {
    "collapsed": false,
    "pycharm": {
     "name": "#%%\n"
    }
   }
  },
  {
   "cell_type": "code",
   "execution_count": 14,
   "outputs": [
    {
     "data": {
      "text/plain": "          user-id                  game-title  hours-played\n1       151603712  The Elder Scrolls V Skyrim         273.0\n3       151603712                   Fallout 4          87.0\n5       151603712                       Spore          14.9\n7       151603712           Fallout New Vegas          12.1\n9       151603712               Left 4 Dead 2           8.9\n...           ...                         ...           ...\n199991  128470551                Fallen Earth           2.4\n199993  128470551                 Magic Duels           2.2\n199995  128470551                 Titan Souls           1.5\n199997  128470551  Grand Theft Auto Vice City           1.5\n199999  128470551                        RUSH           1.4\n\n[129511 rows x 3 columns]",
      "text/html": "<div>\n<style scoped>\n    .dataframe tbody tr th:only-of-type {\n        vertical-align: middle;\n    }\n\n    .dataframe tbody tr th {\n        vertical-align: top;\n    }\n\n    .dataframe thead th {\n        text-align: right;\n    }\n</style>\n<table border=\"1\" class=\"dataframe\">\n  <thead>\n    <tr style=\"text-align: right;\">\n      <th></th>\n      <th>user-id</th>\n      <th>game-title</th>\n      <th>hours-played</th>\n    </tr>\n  </thead>\n  <tbody>\n    <tr>\n      <th>1</th>\n      <td>151603712</td>\n      <td>The Elder Scrolls V Skyrim</td>\n      <td>273.0</td>\n    </tr>\n    <tr>\n      <th>3</th>\n      <td>151603712</td>\n      <td>Fallout 4</td>\n      <td>87.0</td>\n    </tr>\n    <tr>\n      <th>5</th>\n      <td>151603712</td>\n      <td>Spore</td>\n      <td>14.9</td>\n    </tr>\n    <tr>\n      <th>7</th>\n      <td>151603712</td>\n      <td>Fallout New Vegas</td>\n      <td>12.1</td>\n    </tr>\n    <tr>\n      <th>9</th>\n      <td>151603712</td>\n      <td>Left 4 Dead 2</td>\n      <td>8.9</td>\n    </tr>\n    <tr>\n      <th>...</th>\n      <td>...</td>\n      <td>...</td>\n      <td>...</td>\n    </tr>\n    <tr>\n      <th>199991</th>\n      <td>128470551</td>\n      <td>Fallen Earth</td>\n      <td>2.4</td>\n    </tr>\n    <tr>\n      <th>199993</th>\n      <td>128470551</td>\n      <td>Magic Duels</td>\n      <td>2.2</td>\n    </tr>\n    <tr>\n      <th>199995</th>\n      <td>128470551</td>\n      <td>Titan Souls</td>\n      <td>1.5</td>\n    </tr>\n    <tr>\n      <th>199997</th>\n      <td>128470551</td>\n      <td>Grand Theft Auto Vice City</td>\n      <td>1.5</td>\n    </tr>\n    <tr>\n      <th>199999</th>\n      <td>128470551</td>\n      <td>RUSH</td>\n      <td>1.4</td>\n    </tr>\n  </tbody>\n</table>\n<p>129511 rows × 3 columns</p>\n</div>"
     },
     "execution_count": 14,
     "metadata": {},
     "output_type": "execute_result"
    }
   ],
   "source": [
    "df_steam_dropped\n"
   ],
   "metadata": {
    "collapsed": false,
    "pycharm": {
     "name": "#%%\n"
    }
   }
  },
  {
   "cell_type": "code",
   "execution_count": 17,
   "outputs": [],
   "source": [
    "df_steam_backup = df_steam_dropped"
   ],
   "metadata": {
    "collapsed": false,
    "pycharm": {
     "name": "#%%\n"
    }
   }
  },
  {
   "cell_type": "code",
   "execution_count": 15,
   "outputs": [],
   "source": [
    "def compute_frequency(hours_in_game_u, hours_in_game_all_sum):\n",
    "    if hours_in_game_all_sum == 0:\n",
    "        return 0\n",
    "    if hours_in_game_u == hours_in_game_all_sum :\n",
    "        return 1\n",
    "\n",
    "    return hours_in_game_u / (hours_in_game_all_sum - hours_in_game_u)\n",
    "\n",
    "\n",
    "def compute_rating(frequency_sum):\n",
    "    return 4*(1 - frequency_sum) + 1"
   ],
   "metadata": {
    "collapsed": false,
    "pycharm": {
     "name": "#%%\n"
    }
   }
  },
  {
   "cell_type": "code",
   "execution_count": 16,
   "outputs": [],
   "source": [
    "game_hours = df_steam_dropped.groupby(['game-title'])['hours-played'].sum().reset_index()\n",
    "df_steam_dropped[\"frequency\"] = np.nan\n",
    "\n",
    "for i in range(int(len(df_steam_dropped[\"user-id\"]))):\n",
    "    hours_in_game_u = df_steam_dropped.iloc[i, 2]\n",
    "    hours_in_game_all_sum = game_hours[game_hours[\"game-title\"] == df_steam_dropped.iloc[i, 1]].iloc[0, 1]\n",
    "    frequency = compute_frequency(hours_in_game_u, hours_in_game_all_sum)\n",
    "    df_steam_dropped.iloc[i, 3] = frequency"
   ],
   "metadata": {
    "collapsed": false,
    "pycharm": {
     "name": "#%%\n"
    }
   }
  },
  {
   "cell_type": "code",
   "execution_count": 18,
   "outputs": [
    {
     "data": {
      "text/plain": "          user-id                                         game-title  \\\n0       159800136                                   theHunter Primal   \n1        62878249                                   theHunter Primal   \n2       207424334                                   theHunter Primal   \n3       157080495                                   theHunter Primal   \n4        43913966                                          theHunter   \n...           ...                                                ...   \n129506   78560022  1... 2... 3... KICK IT! (Drop That Beat Like a...   \n129507   11940338                                          0RBITALIS   \n129508   86055705                                          0RBITALIS   \n129509   93030550                                          0RBITALIS   \n129510   46055854                                        007 Legends   \n\n        hours-played  frequency  rating  \n0               71.0   4.765101     NaN  \n1                9.4   0.122876     NaN  \n2                4.6   0.056581     NaN  \n3                0.9   0.010588     NaN  \n4               95.0   0.280899     NaN  \n...              ...        ...     ...  \n129506           0.2   0.009174     NaN  \n129507           0.6   1.000000     NaN  \n129508           0.3   0.333333     NaN  \n129509           0.3   0.333333     NaN  \n129510           0.7   1.000000     NaN  \n\n[129511 rows x 5 columns]",
      "text/html": "<div>\n<style scoped>\n    .dataframe tbody tr th:only-of-type {\n        vertical-align: middle;\n    }\n\n    .dataframe tbody tr th {\n        vertical-align: top;\n    }\n\n    .dataframe thead th {\n        text-align: right;\n    }\n</style>\n<table border=\"1\" class=\"dataframe\">\n  <thead>\n    <tr style=\"text-align: right;\">\n      <th></th>\n      <th>user-id</th>\n      <th>game-title</th>\n      <th>hours-played</th>\n      <th>frequency</th>\n      <th>rating</th>\n    </tr>\n  </thead>\n  <tbody>\n    <tr>\n      <th>0</th>\n      <td>159800136</td>\n      <td>theHunter Primal</td>\n      <td>71.0</td>\n      <td>4.765101</td>\n      <td>NaN</td>\n    </tr>\n    <tr>\n      <th>1</th>\n      <td>62878249</td>\n      <td>theHunter Primal</td>\n      <td>9.4</td>\n      <td>0.122876</td>\n      <td>NaN</td>\n    </tr>\n    <tr>\n      <th>2</th>\n      <td>207424334</td>\n      <td>theHunter Primal</td>\n      <td>4.6</td>\n      <td>0.056581</td>\n      <td>NaN</td>\n    </tr>\n    <tr>\n      <th>3</th>\n      <td>157080495</td>\n      <td>theHunter Primal</td>\n      <td>0.9</td>\n      <td>0.010588</td>\n      <td>NaN</td>\n    </tr>\n    <tr>\n      <th>4</th>\n      <td>43913966</td>\n      <td>theHunter</td>\n      <td>95.0</td>\n      <td>0.280899</td>\n      <td>NaN</td>\n    </tr>\n    <tr>\n      <th>...</th>\n      <td>...</td>\n      <td>...</td>\n      <td>...</td>\n      <td>...</td>\n      <td>...</td>\n    </tr>\n    <tr>\n      <th>129506</th>\n      <td>78560022</td>\n      <td>1... 2... 3... KICK IT! (Drop That Beat Like a...</td>\n      <td>0.2</td>\n      <td>0.009174</td>\n      <td>NaN</td>\n    </tr>\n    <tr>\n      <th>129507</th>\n      <td>11940338</td>\n      <td>0RBITALIS</td>\n      <td>0.6</td>\n      <td>1.000000</td>\n      <td>NaN</td>\n    </tr>\n    <tr>\n      <th>129508</th>\n      <td>86055705</td>\n      <td>0RBITALIS</td>\n      <td>0.3</td>\n      <td>0.333333</td>\n      <td>NaN</td>\n    </tr>\n    <tr>\n      <th>129509</th>\n      <td>93030550</td>\n      <td>0RBITALIS</td>\n      <td>0.3</td>\n      <td>0.333333</td>\n      <td>NaN</td>\n    </tr>\n    <tr>\n      <th>129510</th>\n      <td>46055854</td>\n      <td>007 Legends</td>\n      <td>0.7</td>\n      <td>1.000000</td>\n      <td>NaN</td>\n    </tr>\n  </tbody>\n</table>\n<p>129511 rows × 5 columns</p>\n</div>"
     },
     "execution_count": 18,
     "metadata": {},
     "output_type": "execute_result"
    }
   ],
   "source": [
    "df_steam_1 = df_steam_dropped\n",
    "df_steam_1['rating'] = np.nan\n",
    "\n",
    "df_steam_1.sort_values(by = ['game-title', 'frequency'], inplace=True, ascending=False, ignore_index=True)\n",
    "\n",
    "df_steam_1"
   ],
   "metadata": {
    "collapsed": false,
    "pycharm": {
     "name": "#%%\n"
    }
   }
  },
  {
   "cell_type": "code",
   "execution_count": 19,
   "outputs": [],
   "source": [
    "game_flag, frequency_sum, last_user_frequency, last_user_rating = \"\", 0, 0, 0\n",
    "\n",
    "for i in range(int(len(df_steam_1))):\n",
    "    game_i = df_steam_1.at[i, \"game-title\"]\n",
    "    frequency_i = df_steam_1.at[i, \"frequency\"]\n",
    "\n",
    "    if game_i != game_flag:\n",
    "        game_flag = game_i\n",
    "        if frequency_i == 0:\n",
    "            frequency_sum, last_user_frequency, last_user_rating = 0, 0, 1\n",
    "            df_steam_1.at[i, \"rating\"] = 1\n",
    "        else:\n",
    "            frequency_sum, last_user_frequency, last_user_rating = frequency_i, frequency_i, 5\n",
    "            df_steam_1.at[i, \"rating\"] = 5\n",
    "    else:\n",
    "        if frequency_i == 0:\n",
    "            last_user_rating = 1\n",
    "            df_steam_1.at[i, \"rating\"] = 1\n",
    "        elif last_user_frequency == frequency_i :\n",
    "            frequency_sum += frequency_i\n",
    "            df_steam_1.at[i, \"rating\"] = last_user_rating\n",
    "        else:\n",
    "            rating = compute_rating(frequency_sum)\n",
    "            frequency_sum += frequency_i\n",
    "            last_user_frequency = frequency_i\n",
    "            last_user_rating = rating\n",
    "\n",
    "            df_steam_1.at[i, \"rating\"] = rating"
   ],
   "metadata": {
    "collapsed": false,
    "pycharm": {
     "name": "#%%\n"
    }
   }
  },
  {
   "cell_type": "code",
   "execution_count": 20,
   "outputs": [],
   "source": [
    "df_steam_2 = df_steam_1\n",
    "df_steam_2[\"game-id\"] = df_steam_2[\"game-title\"].apply(hash)\n",
    "df_steam_2.sort_values(by=[\"user-id\", \"game-id\"], inplace=True, ignore_index=True)\n",
    "\n",
    "df_steam_2 = df_steam_2[df_steam_2[\"rating\"] != 1]"
   ],
   "metadata": {
    "collapsed": false,
    "pycharm": {
     "name": "#%%\n"
    }
   }
  },
  {
   "cell_type": "code",
   "execution_count": 21,
   "outputs": [
    {
     "data": {
      "text/plain": "          user-id                    game-title  hours-played     frequency  \\\n0            5250      Deus Ex Human Revolution          62.0  1.746282e-02   \n1            5250                     Half-Life           1.0  1.067806e-03   \n2            5250          Half-Life Blue Shift           1.0  2.402114e-03   \n3            5250                        Portal           1.0  4.076973e-04   \n4            5250                        Dota 2           0.2  2.037315e-07   \n...           ...                           ...           ...           ...   \n129506  309626088  Age of Empires II HD Edition           6.7  9.724520e-04   \n129507  309812026                     Robocraft           1.0  1.066371e-04   \n129508  309812026  Counter-Strike Nexon Zombies           1.0  4.496201e-04   \n129509  309824202                        Dota 2           0.7  7.130605e-07   \n129510  309903146                        Dota 2           0.2  2.037315e-07   \n\n          rating              game-id  \n0       3.227455 -6938741711240263698  \n1       2.176753 -6736134611341980101  \n2       4.130367 -6583413472635417409  \n3       1.313938 -6461394631566578908  \n4       0.992064 -6434609282066568769  \n...          ...                  ...  \n129506  1.017493  4426064088668796550  \n129507  1.054881  8890450830081547423  \n129508  1.261627  9141621860151352215  \n129509  0.993267 -6434609282066568769  \n129510  0.992064 -6434609282066568769  \n\n[129482 rows x 6 columns]",
      "text/html": "<div>\n<style scoped>\n    .dataframe tbody tr th:only-of-type {\n        vertical-align: middle;\n    }\n\n    .dataframe tbody tr th {\n        vertical-align: top;\n    }\n\n    .dataframe thead th {\n        text-align: right;\n    }\n</style>\n<table border=\"1\" class=\"dataframe\">\n  <thead>\n    <tr style=\"text-align: right;\">\n      <th></th>\n      <th>user-id</th>\n      <th>game-title</th>\n      <th>hours-played</th>\n      <th>frequency</th>\n      <th>rating</th>\n      <th>game-id</th>\n    </tr>\n  </thead>\n  <tbody>\n    <tr>\n      <th>0</th>\n      <td>5250</td>\n      <td>Deus Ex Human Revolution</td>\n      <td>62.0</td>\n      <td>1.746282e-02</td>\n      <td>3.227455</td>\n      <td>-6938741711240263698</td>\n    </tr>\n    <tr>\n      <th>1</th>\n      <td>5250</td>\n      <td>Half-Life</td>\n      <td>1.0</td>\n      <td>1.067806e-03</td>\n      <td>2.176753</td>\n      <td>-6736134611341980101</td>\n    </tr>\n    <tr>\n      <th>2</th>\n      <td>5250</td>\n      <td>Half-Life Blue Shift</td>\n      <td>1.0</td>\n      <td>2.402114e-03</td>\n      <td>4.130367</td>\n      <td>-6583413472635417409</td>\n    </tr>\n    <tr>\n      <th>3</th>\n      <td>5250</td>\n      <td>Portal</td>\n      <td>1.0</td>\n      <td>4.076973e-04</td>\n      <td>1.313938</td>\n      <td>-6461394631566578908</td>\n    </tr>\n    <tr>\n      <th>4</th>\n      <td>5250</td>\n      <td>Dota 2</td>\n      <td>0.2</td>\n      <td>2.037315e-07</td>\n      <td>0.992064</td>\n      <td>-6434609282066568769</td>\n    </tr>\n    <tr>\n      <th>...</th>\n      <td>...</td>\n      <td>...</td>\n      <td>...</td>\n      <td>...</td>\n      <td>...</td>\n      <td>...</td>\n    </tr>\n    <tr>\n      <th>129506</th>\n      <td>309626088</td>\n      <td>Age of Empires II HD Edition</td>\n      <td>6.7</td>\n      <td>9.724520e-04</td>\n      <td>1.017493</td>\n      <td>4426064088668796550</td>\n    </tr>\n    <tr>\n      <th>129507</th>\n      <td>309812026</td>\n      <td>Robocraft</td>\n      <td>1.0</td>\n      <td>1.066371e-04</td>\n      <td>1.054881</td>\n      <td>8890450830081547423</td>\n    </tr>\n    <tr>\n      <th>129508</th>\n      <td>309812026</td>\n      <td>Counter-Strike Nexon Zombies</td>\n      <td>1.0</td>\n      <td>4.496201e-04</td>\n      <td>1.261627</td>\n      <td>9141621860151352215</td>\n    </tr>\n    <tr>\n      <th>129509</th>\n      <td>309824202</td>\n      <td>Dota 2</td>\n      <td>0.7</td>\n      <td>7.130605e-07</td>\n      <td>0.993267</td>\n      <td>-6434609282066568769</td>\n    </tr>\n    <tr>\n      <th>129510</th>\n      <td>309903146</td>\n      <td>Dota 2</td>\n      <td>0.2</td>\n      <td>2.037315e-07</td>\n      <td>0.992064</td>\n      <td>-6434609282066568769</td>\n    </tr>\n  </tbody>\n</table>\n<p>129482 rows × 6 columns</p>\n</div>"
     },
     "execution_count": 21,
     "metadata": {},
     "output_type": "execute_result"
    }
   ],
   "source": [
    "df_steam_2\n"
   ],
   "metadata": {
    "collapsed": false,
    "pycharm": {
     "name": "#%%\n"
    }
   }
  },
  {
   "cell_type": "code",
   "execution_count": 24,
   "outputs": [
    {
     "data": {
      "text/plain": "5.0"
     },
     "execution_count": 24,
     "metadata": {},
     "output_type": "execute_result"
    }
   ],
   "source": [
    "df_steam_2[\"rating\"].max()\n"
   ],
   "metadata": {
    "collapsed": false,
    "pycharm": {
     "name": "#%%\n"
    }
   }
  },
  {
   "cell_type": "code",
   "execution_count": 25,
   "outputs": [],
   "source": [
    "df_steam_2.to_csv(\"Data/steam_processed.csv\")"
   ],
   "metadata": {
    "collapsed": false,
    "pycharm": {
     "name": "#%%\n"
    }
   }
  }
 ],
 "metadata": {
  "kernelspec": {
   "display_name": "Python 3",
   "language": "python",
   "name": "python3"
  },
  "language_info": {
   "codemirror_mode": {
    "name": "ipython",
    "version": 2
   },
   "file_extension": ".py",
   "mimetype": "text/x-python",
   "name": "python",
   "nbconvert_exporter": "python",
   "pygments_lexer": "ipython2",
   "version": "2.7.6"
  }
 },
 "nbformat": 4,
 "nbformat_minor": 0
}